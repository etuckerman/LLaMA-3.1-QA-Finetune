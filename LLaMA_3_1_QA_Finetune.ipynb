{
  "nbformat": 4,
  "nbformat_minor": 0,
  "metadata": {
    "colab": {
      "provenance": [],
      "authorship_tag": "ABX9TyN0AIaSUaisL5Q3J6afXYNh",
      "include_colab_link": true
    },
    "kernelspec": {
      "name": "python3",
      "display_name": "Python 3"
    },
    "language_info": {
      "name": "python"
    }
  },
  "cells": [
    {
      "cell_type": "markdown",
      "metadata": {
        "id": "view-in-github",
        "colab_type": "text"
      },
      "source": [
        "<a href=\"https://colab.research.google.com/github/etuckerman/LLaMA-3.1-QA-Finetune/blob/main/LLaMA_3_1_QA_Finetune.ipynb\" target=\"_parent\"><img src=\"https://colab.research.google.com/assets/colab-badge.svg\" alt=\"Open In Colab\"/></a>"
      ]
    },
    {
      "cell_type": "markdown",
      "source": [
        "# Create examplary dataset (16 qna's)"
      ],
      "metadata": {
        "id": "uTlrkvEMDbFh"
      }
    },
    {
      "cell_type": "code",
      "execution_count": 1,
      "metadata": {
        "id": "9CGZdAn2BkRO"
      },
      "outputs": [],
      "source": [
        "import pandas as pd\n",
        "\n",
        "# Create a DataFrame with 16 example questions and answers\n",
        "data = {\n",
        "    'Question': [\n",
        "        \"What is the capital of France?\",\n",
        "        \"Who wrote 'To Kill a Mockingbird'?\",\n",
        "        \"What is the boiling point of water?\",\n",
        "        \"Who is known as the father of modern physics?\",\n",
        "        \"Which planet is known as the Red Planet?\",\n",
        "        \"What is the largest mammal in the world?\",\n",
        "        \"Who painted the Mona Lisa?\",\n",
        "        \"What is the speed of light?\",\n",
        "        \"Who developed the theory of relativity?\",\n",
        "        \"What is the hardest natural substance on Earth?\",\n",
        "        \"Which element has the chemical symbol 'O'?\",\n",
        "        \"What is the smallest unit of life?\",\n",
        "        \"Who was the first person to walk on the Moon?\",\n",
        "        \"What is the main ingredient in guacamole?\",\n",
        "        \"Which country is known as the Land of the Rising Sun?\",\n",
        "        \"What is the largest ocean on Earth?\"\n",
        "    ],\n",
        "    'Answer': [\n",
        "        \"The capital of France is Paris.\",\n",
        "        \"Harper Lee wrote 'To Kill a Mockingbird'.\",\n",
        "        \"The boiling point of water is 100 degrees Celsius.\",\n",
        "        \"Albert Einstein is known as the father of modern physics.\",\n",
        "        \"Mars is known as the Red Planet.\",\n",
        "        \"The blue whale is the largest mammal in the world.\",\n",
        "        \"Leonardo da Vinci painted the Mona Lisa.\",\n",
        "        \"The speed of light is approximately 299,792 kilometers per second.\",\n",
        "        \"Albert Einstein developed the theory of relativity.\",\n",
        "        \"Diamond is the hardest natural substance on Earth.\",\n",
        "        \"Oxygen has the chemical symbol 'O'.\",\n",
        "        \"The cell is the smallest unit of life.\",\n",
        "        \"Neil Armstrong was the first person to walk on the Moon.\",\n",
        "        \"The main ingredient in guacamole is avocado.\",\n",
        "        \"Japan is known as the Land of the Rising Sun.\",\n",
        "        \"The Pacific Ocean is the largest ocean on Earth.\"\n",
        "    ]\n",
        "}\n",
        "\n",
        "df = pd.DataFrame(data)\n",
        "df.to_csv('qa_examples.csv', index=False)\n"
      ]
    }
  ]
}